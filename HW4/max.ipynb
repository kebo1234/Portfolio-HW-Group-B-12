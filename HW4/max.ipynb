{
 "cells": [
  {
   "cell_type": "code",
   "execution_count": 32,
   "id": "ded19bca",
   "metadata": {},
   "outputs": [],
   "source": [
    "import pandas as pd\n",
    "import numpy as np\n",
    "import seaborn as sns\n",
    "import matplotlib.pyplot as plt"
   ]
  },
  {
   "cell_type": "code",
   "execution_count": 12,
   "id": "7af1dbaf",
   "metadata": {},
   "outputs": [
    {
     "data": {
      "text/html": [
       "<div>\n",
       "<style scoped>\n",
       "    .dataframe tbody tr th:only-of-type {\n",
       "        vertical-align: middle;\n",
       "    }\n",
       "\n",
       "    .dataframe tbody tr th {\n",
       "        vertical-align: top;\n",
       "    }\n",
       "\n",
       "    .dataframe thead th {\n",
       "        text-align: right;\n",
       "    }\n",
       "</style>\n",
       "<table border=\"1\" class=\"dataframe\">\n",
       "  <thead>\n",
       "    <tr style=\"text-align: right;\">\n",
       "      <th></th>\n",
       "      <th>Mkt-RF</th>\n",
       "      <th>SMB</th>\n",
       "      <th>HML</th>\n",
       "      <th>RF</th>\n",
       "    </tr>\n",
       "    <tr>\n",
       "      <th>Date</th>\n",
       "      <th></th>\n",
       "      <th></th>\n",
       "      <th></th>\n",
       "      <th></th>\n",
       "    </tr>\n",
       "  </thead>\n",
       "  <tbody>\n",
       "    <tr>\n",
       "      <th>1926-07-31</th>\n",
       "      <td>0.0289</td>\n",
       "      <td>-0.0255</td>\n",
       "      <td>-0.0239</td>\n",
       "      <td>0.0022</td>\n",
       "    </tr>\n",
       "    <tr>\n",
       "      <th>1926-08-31</th>\n",
       "      <td>0.0264</td>\n",
       "      <td>-0.0114</td>\n",
       "      <td>0.0381</td>\n",
       "      <td>0.0025</td>\n",
       "    </tr>\n",
       "    <tr>\n",
       "      <th>1926-09-30</th>\n",
       "      <td>0.0038</td>\n",
       "      <td>-0.0136</td>\n",
       "      <td>0.0005</td>\n",
       "      <td>0.0023</td>\n",
       "    </tr>\n",
       "    <tr>\n",
       "      <th>1926-10-31</th>\n",
       "      <td>-0.0327</td>\n",
       "      <td>-0.0014</td>\n",
       "      <td>0.0082</td>\n",
       "      <td>0.0032</td>\n",
       "    </tr>\n",
       "    <tr>\n",
       "      <th>1926-11-30</th>\n",
       "      <td>0.0254</td>\n",
       "      <td>-0.0011</td>\n",
       "      <td>-0.0061</td>\n",
       "      <td>0.0031</td>\n",
       "    </tr>\n",
       "  </tbody>\n",
       "</table>\n",
       "</div>"
      ],
      "text/plain": [
       "            Mkt-RF     SMB     HML      RF\n",
       "Date                                      \n",
       "1926-07-31  0.0289 -0.0255 -0.0239  0.0022\n",
       "1926-08-31  0.0264 -0.0114  0.0381  0.0025\n",
       "1926-09-30  0.0038 -0.0136  0.0005  0.0023\n",
       "1926-10-31 -0.0327 -0.0014  0.0082  0.0032\n",
       "1926-11-30  0.0254 -0.0011 -0.0061  0.0031"
      ]
     },
     "execution_count": 12,
     "metadata": {},
     "output_type": "execute_result"
    }
   ],
   "source": [
    "df = pd.read_excel('dfa_analysis_data.xlsx', sheet_name='factors')\n",
    "df.set_index('Date', inplace=True)\n",
    "df.head()\n"
   ]
  },
  {
   "cell_type": "markdown",
   "id": "a034a55d",
   "metadata": {},
   "source": [
    "### 1. The Factors\n",
    "\n",
    "Calculate their univariate performance statistics:\n",
    "\n",
    "mean\n",
    "volatility\n",
    "Sharpe\n",
    "VaR(.05)\n",
    "Report these for the following three subsamples:\n",
    "\n",
    "Beginning - 1980\n",
    "\n",
    "1981 - 2001\n",
    "\n",
    "2002 - End"
   ]
  },
  {
   "cell_type": "code",
   "execution_count": 20,
   "id": "79356b68",
   "metadata": {},
   "outputs": [],
   "source": [
    "# Define the subsample date ranges\n",
    "# Beginning - 1980: everything up through 1980-12-31\n",
    "df1 = df.loc[:'1980-12-31']\n",
    "# 1981 - 2001: 1981-01-01 through 2001-12-31\n",
    "df2 = df.loc['1981-01-01':'2001-12-31']\n",
    "# 2002 - End: 2002-01-01 and later\n",
    "df3 = df.loc['2002-01-01':]\n",
    "\n",
    "# Calculate stats for each subsample\n",
    "def get_stats(subdf):\n",
    "    mean = subdf.mean() * 12\n",
    "    vol = subdf.std() * np.sqrt(12)\n",
    "    sharpe = mean / vol\n",
    "    VaR = subdf.quantile(.05)\n",
    "    return mean, vol, sharpe, VaR\n",
    "\n",
    "mean1, vol1, sharpe1, VaR1 = get_stats(df1)\n",
    "mean2, vol2, sharpe2, VaR2 = get_stats(df2)\n",
    "mean3, vol3, sharpe3, VaR3 = get_stats(df3)"
   ]
  },
  {
   "cell_type": "code",
   "execution_count": 17,
   "id": "7de7ca8c",
   "metadata": {},
   "outputs": [
    {
     "name": "stdout",
     "output_type": "stream",
     "text": [
      "=== Beginning - 1980 ===\n",
      "Mean:\n",
      " Mkt-RF    0.080958\n",
      "SMB       0.033914\n",
      "HML       0.050321\n",
      "RF        0.027730\n",
      "dtype: float64\n",
      "Volatility:\n",
      " Mkt-RF    0.204988\n",
      "SMB       0.114277\n",
      "HML       0.134228\n",
      "RF        0.007673\n",
      "dtype: float64\n",
      "Sharpe:\n",
      " Mkt-RF    0.394938\n",
      "SMB       0.296769\n",
      "HML       0.374893\n",
      "RF        3.614032\n",
      "dtype: float64\n",
      "VaR(.05):\n",
      " Mkt-RF   -0.084090\n",
      "SMB      -0.041875\n",
      "HML      -0.044245\n",
      "RF        0.000000\n",
      "Name: 0.05, dtype: float64\n"
     ]
    }
   ],
   "source": [
    "print(\"=== Beginning - 1980 ===\")\n",
    "print(\"Mean:\\n\", mean1)\n",
    "print(\"Volatility:\\n\", vol1)\n",
    "print(\"Sharpe:\\n\", sharpe1)\n",
    "print(\"VaR(.05):\\n\", VaR1)"
   ]
  },
  {
   "cell_type": "code",
   "execution_count": 18,
   "id": "e63f8ec0",
   "metadata": {},
   "outputs": [
    {
     "name": "stdout",
     "output_type": "stream",
     "text": [
      "\n",
      "=== 1981 - 2001 ===\n",
      "Mean:\n",
      " Mkt-RF    0.077852\n",
      "SMB      -0.002014\n",
      "HML       0.064557\n",
      "RF        0.063081\n",
      "dtype: float64\n",
      "Volatility:\n",
      " Mkt-RF    0.157183\n",
      "SMB       0.117260\n",
      "HML       0.109863\n",
      "RF        0.007752\n",
      "dtype: float64\n",
      "Sharpe:\n",
      " Mkt-RF    0.495298\n",
      "SMB      -0.017178\n",
      "HML       0.587613\n",
      "RF        8.137239\n",
      "dtype: float64\n",
      "VaR(.05):\n",
      " Mkt-RF   -0.064135\n",
      "SMB      -0.045880\n",
      "HML      -0.041640\n",
      "RF        0.002455\n",
      "Name: 0.05, dtype: float64\n"
     ]
    }
   ],
   "source": [
    "print(\"\\n=== 1981 - 2001 ===\")\n",
    "print(\"Mean:\\n\", mean2)\n",
    "print(\"Volatility:\\n\", vol2)\n",
    "print(\"Sharpe:\\n\", sharpe2)\n",
    "print(\"VaR(.05):\\n\", VaR2)"
   ]
  },
  {
   "cell_type": "code",
   "execution_count": 19,
   "id": "c6296f3e",
   "metadata": {},
   "outputs": [
    {
     "name": "stdout",
     "output_type": "stream",
     "text": [
      "\n",
      "=== 2002 - End ===\n",
      "Mean:\n",
      " Mkt-RF    0.091306\n",
      "SMB       0.007931\n",
      "HML       0.001204\n",
      "RF        0.015837\n",
      "dtype: float64\n",
      "Volatility:\n",
      " Mkt-RF    0.153529\n",
      "SMB       0.088448\n",
      "HML       0.106442\n",
      "RF        0.005213\n",
      "dtype: float64\n",
      "Sharpe:\n",
      " Mkt-RF    0.594711\n",
      "SMB       0.089669\n",
      "HML       0.011313\n",
      "RF        3.038090\n",
      "dtype: float64\n",
      "VaR(.05):\n",
      " Mkt-RF   -0.077265\n",
      "SMB      -0.039195\n",
      "HML      -0.041485\n",
      "RF        0.000000\n",
      "Name: 0.05, dtype: float64\n"
     ]
    }
   ],
   "source": [
    "print(\"\\n=== 2002 - End ===\")\n",
    "print(\"Mean:\\n\", mean3)\n",
    "print(\"Volatility:\\n\", vol3)\n",
    "print(\"Sharpe:\\n\", sharpe3)\n",
    "print(\"VaR(.05):\\n\", VaR3)"
   ]
  },
  {
   "cell_type": "markdown",
   "id": "41121abe",
   "metadata": {},
   "source": [
    "### 2.\n",
    "\n",
    "Based on the factor statistics above, answer the following.\n",
    "\n",
    "Does each factor have a premium (positive expected excess return) in each subsample?\n",
    "\n",
    "Does the premium to the size factor get smaller after 1980?\n",
    "\n",
    "Does the premium to the value factor get smaller during the 1990’s?\n",
    "\n",
    "How have the factors performed since the time of the case, (2002-present)?"
   ]
  },
  {
   "cell_type": "markdown",
   "id": "a8d72516",
   "metadata": {},
   "source": [
    "### Answers to 2\n",
    "\n",
    "1. The SMB factor in the 2nd subsample does not have a premium. The others do in all subsamples.\n",
    "2. The SMB factor gets smaller (goes negative) after 1980, but then jumps up to .007 in the 2002 & on subset.\n",
    "3. The 90s are included in the second subsample along with the 80s. The factor premium stays similar from the 80s through the 90s & drops heavily in the 2000s.\n",
    "4. The mkt return factor has increased in the 3rd subsample, while the other two are close to zero."
   ]
  },
  {
   "cell_type": "markdown",
   "id": "b89c0718",
   "metadata": {},
   "source": [
    "### 3.\n",
    "\n",
    "The factors are constructed in such a way as to reduce correlation between them.\n",
    "\n",
    "Report the correlation matrix across the three factors.\n",
    "Does the construction method succeed in keeping correlations small?\n",
    "Does it achieve this in each subsample?\n"
   ]
  },
  {
   "cell_type": "code",
   "execution_count": 36,
   "id": "2f8ccb65",
   "metadata": {},
   "outputs": [
    {
     "name": "stdout",
     "output_type": "stream",
     "text": [
      "==== All Data ====\n",
      "          Mkt-RF       SMB       HML\n",
      "Mkt-RF  1.000000  0.320443  0.227832\n",
      "SMB     0.320443  1.000000  0.125828\n",
      "HML     0.227832  0.125828  1.000000\n"
     ]
    },
    {
     "data": {
      "image/png": "[encoded data removed]",
      "text/plain": [
       "<Figure size 600x400 with 2 Axes>"
      ]
     },
     "metadata": {},
     "output_type": "display_data"
    }
   ],
   "source": [
    "cor_matrix = df[['Mkt-RF', 'SMB', 'HML']].corr()\n",
    "print(\"==== All Data ====\")\n",
    "print(cor_matrix)\n",
    "\n",
    "plt.figure(figsize=(6, 4))\n",
    "sns.heatmap(cor_matrix, annot=True, cmap=\"coolwarm\", center=0)\n",
    "plt.title(\"Factor Correlation Matrix\")\n",
    "plt.show()\n",
    "\n"
   ]
  },
  {
   "cell_type": "code",
   "execution_count": 39,
   "id": "58ce8359",
   "metadata": {},
   "outputs": [
    {
     "name": "stdout",
     "output_type": "stream",
     "text": [
      "==== Start - 1980 ====\n",
      "          Mkt-RF       SMB       HML\n",
      "Mkt-RF  1.000000  0.374234  0.442341\n",
      "SMB     0.374234  1.000000  0.313397\n",
      "HML     0.442341  0.313397  1.000000\n"
     ]
    },
    {
     "data": {
      "image/png": "[encoded data removed]",
      "text/plain": [
       "<Figure size 600x400 with 2 Axes>"
      ]
     },
     "metadata": {},
     "output_type": "display_data"
    }
   ],
   "source": [
    "cor_matrix = df1[['Mkt-RF', 'SMB', 'HML']].corr()\n",
    "print(\"==== Start - 1980 ====\")\n",
    "print(cor_matrix)\n",
    "\n",
    "plt.figure(figsize=(6, 4))\n",
    "sns.heatmap(cor_matrix, annot=True, cmap=\"coolwarm\", center=0)\n",
    "plt.title(\"Factor Correlation Matrix\")\n",
    "plt.show()"
   ]
  },
  {
   "cell_type": "code",
   "execution_count": 38,
   "id": "fcf8f0a2",
   "metadata": {},
   "outputs": [
    {
     "name": "stdout",
     "output_type": "stream",
     "text": [
      "==== Start - 1980 ====\n",
      "          Mkt-RF       SMB       HML\n",
      "Mkt-RF  1.000000  0.158652 -0.529912\n",
      "SMB     0.158652  1.000000 -0.445451\n",
      "HML    -0.529912 -0.445451  1.000000\n"
     ]
    },
    {
     "data": {
      "image/png": "[encoded data removed]",
      "text/plain": [
       "<Figure size 600x400 with 2 Axes>"
      ]
     },
     "metadata": {},
     "output_type": "display_data"
    }
   ],
   "source": [
    "cor_matrix = df2[['Mkt-RF', 'SMB', 'HML']].corr()\n",
    "print(\"==== Start - 1980 ====\")\n",
    "print(cor_matrix)\n",
    "\n",
    "plt.figure(figsize=(6, 4))\n",
    "sns.heatmap(cor_matrix, annot=True, cmap=\"coolwarm\", center=0)\n",
    "plt.title(\"Factor Correlation Matrix\")\n",
    "plt.show()"
   ]
  },
  {
   "cell_type": "code",
   "execution_count": 41,
   "id": "b84dc930",
   "metadata": {},
   "outputs": [
    {
     "name": "stdout",
     "output_type": "stream",
     "text": [
      "==== 2002 - Present ====\n",
      "          Mkt-RF       SMB       HML\n",
      "Mkt-RF  1.000000  0.316034  0.109671\n",
      "SMB     0.316034  1.000000  0.116227\n",
      "HML     0.109671  0.116227  1.000000\n"
     ]
    },
    {
     "data": {
      "image/png": "[encoded data removed]",
      "text/plain": [
       "<Figure size 600x400 with 2 Axes>"
      ]
     },
     "metadata": {},
     "output_type": "display_data"
    }
   ],
   "source": [
    "cor_matrix = df3[['Mkt-RF', 'SMB', 'HML']].corr()\n",
    "print(\"==== 2002 - Present ====\")\n",
    "print(cor_matrix)\n",
    "\n",
    "plt.figure(figsize=(6, 4))\n",
    "sns.heatmap(cor_matrix, annot=True, cmap=\"coolwarm\", center=0)\n",
    "plt.title(\"Factor Correlation Matrix\")\n",
    "plt.show()"
   ]
  },
  {
   "cell_type": "markdown",
   "id": "2ae25f66",
   "metadata": {},
   "source": [
    "### Answers to 3\n",
    "\n",
    "In the large sample, correlations are pretty low (~.30).\n",
    "In the individual subsamples, the 2nd subsample (1981 - 1990) had the value factor more (negatively) correlated with the two others. In the 1st & 3rd subsamples, these correlations were capped at around (~.30)"
   ]
  },
  {
   "cell_type": "markdown",
   "id": "0bb55c34",
   "metadata": {},
   "source": []
  }
 ],
 "metadata": {
  "kernelspec": {
   "display_name": "venv",
   "language": "python",
   "name": "python3"
  },
  "language_info": {
   "codemirror_mode": {
    "name": "ipython",
    "version": 3
   },
   "file_extension": ".py",
   "mimetype": "text/x-python",
   "name": "python",
   "nbconvert_exporter": "python",
   "pygments_lexer": "ipython3",
   "version": "3.12.3"
  }
 },
 "nbformat": 4,
 "nbformat_minor": 5
}
